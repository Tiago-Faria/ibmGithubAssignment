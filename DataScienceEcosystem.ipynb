{
 "cells": [
  {
   "cell_type": "markdown",
   "id": "7ccf7c31-ee5e-4904-8911-093d5655ff34",
   "metadata": {},
   "source": [
    "# Data Science Tools and Ecosystem"
   ]
  },
  {
   "cell_type": "markdown",
   "id": "9366540d-1f7c-473b-a99e-633e64b84371",
   "metadata": {},
   "source": [
    "In this notebook, Data Science Tools and Ecosystem are summarized."
   ]
  },
  {
   "cell_type": "markdown",
   "id": "bbefa600-3dde-4fd8-80b2-b0bd873940d6",
   "metadata": {},
   "source": [
    "Some of the popular languages that Data Scientists use are:\n",
    "1. Python\n",
    "2. R\n",
    "3. SQL\n",
    "4. Java"
   ]
  },
  {
   "cell_type": "markdown",
   "id": "ca0c95d9-9bde-4506-ab34-3981ea0ee1dd",
   "metadata": {},
   "source": [
    "Some of the commonly used libraries used by Data Scientists include:\n",
    "1. Pandas\n",
    "2. Scikit learn\n",
    "3. Tensorflow\n",
    "4. matplotlib"
   ]
  },
  {
   "cell_type": "markdown",
   "id": "fc245434-0fb8-46fe-9a01-7e509d724232",
   "metadata": {},
   "source": [
    "Below are a few examples of evaluating arithmetic expressions in Python"
   ]
  },
  {
   "cell_type": "code",
   "execution_count": 2,
   "id": "fcdd452f-0c63-49e8-b59b-d85dd2be4191",
   "metadata": {
    "tags": []
   },
   "outputs": [
    {
     "data": {
      "text/plain": [
       "17"
      ]
     },
     "execution_count": 2,
     "metadata": {},
     "output_type": "execute_result"
    }
   ],
   "source": [
    "# This a simple arithmetic expression to mutiply then add integers\n",
    "(3*4)+5"
   ]
  },
  {
   "cell_type": "code",
   "execution_count": 3,
   "id": "94337c9d-5219-49d5-a205-cfa3f5daa14f",
   "metadata": {
    "tags": []
   },
   "outputs": [
    {
     "data": {
      "text/plain": [
       "3.3333333333333335"
      ]
     },
     "execution_count": 3,
     "metadata": {},
     "output_type": "execute_result"
    }
   ],
   "source": [
    "# This will convert 200 minutes to hours by diving by 60\n",
    "200 / 60"
   ]
  },
  {
   "cell_type": "markdown",
   "id": "1649d4ff-0838-48b0-b20c-6dc8352149ae",
   "metadata": {},
   "source": [
    "**Objectives:**\n",
    "\n",
    "1. List popular languages used for data science\n",
    "2. List popular data science libraries\n",
    "3. Evaluate arithmetic expressions\n",
    "4. Convert minutes to hours"
   ]
  },
  {
   "cell_type": "markdown",
   "id": "0f3e20b4-0253-48fa-8ade-7b02b99e7456",
   "metadata": {},
   "source": [
    "## Author\n",
    "Tiago Pereira de Faria"
   ]
  },
  {
   "cell_type": "code",
   "execution_count": null,
   "id": "8ec57e3d-d938-400b-b1d5-e6a362629e7d",
   "metadata": {},
   "outputs": [],
   "source": []
  }
 ],
 "metadata": {
  "kernelspec": {
   "display_name": "Python",
   "language": "python",
   "name": "conda-env-python-py"
  },
  "language_info": {
   "codemirror_mode": {
    "name": "ipython",
    "version": 3
   },
   "file_extension": ".py",
   "mimetype": "text/x-python",
   "name": "python",
   "nbconvert_exporter": "python",
   "pygments_lexer": "ipython3",
   "version": "3.7.12"
  }
 },
 "nbformat": 4,
 "nbformat_minor": 5
}
